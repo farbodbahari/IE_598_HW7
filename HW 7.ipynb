{
 "cells": [
  {
   "cell_type": "code",
   "execution_count": 1,
   "metadata": {},
   "outputs": [],
   "source": [
    "#Import Libraries\n",
    "import csv\n",
    "import numpy as np\n",
    "import pandas as pd\n",
    "import matplotlib.pyplot as plt\n",
    "import math\n",
    "import re\n",
    "pd.options.display.max_columns=40\n",
    "\n",
    "### Import Descision Tree Classifier\n",
    "from sklearn.preprocessing import scale\n",
    "from sklearn.tree import DecisionTreeClassifier\n",
    "from sklearn.model_selection import train_test_split\n",
    "from sklearn.model_selection import cross_val_score\n",
    "from sklearn.model_selection import GridSearchCV\n",
    "from sklearn.metrics import roc_auc_score\n",
    "# Basic imports\n",
    "from sklearn.ensemble import RandomForestClassifier\n",
    "from sklearn.model_selection import RandomizedSearchCV\n",
    "import matplotlib.pyplot as plt\n",
    "from sklearn.metrics import accuracy_score"
   ]
  },
  {
   "cell_type": "code",
   "execution_count": 2,
   "metadata": {},
   "outputs": [
    {
     "data": {
      "text/plain": [
       "True"
      ]
     },
     "execution_count": 2,
     "metadata": {},
     "output_type": "execute_result"
    }
   ],
   "source": [
    "### Load \n",
    "path_hw7=\"C:\\\\Users\\\\fbaharkoush\\\\IE 598 Machine Learning\\\\Homework\\\\HW 7\\\\\"\n",
    "df_ts=pd.read_csv(path_hw7+\"ccdefault.csv\").drop(\"ID\",axis=1)\n",
    "### Missing Values\n",
    "df_ts.isnull().sum().sum()==0"
   ]
  },
  {
   "cell_type": "code",
   "execution_count": 3,
   "metadata": {},
   "outputs": [],
   "source": [
    "## Values\n",
    "X=df_ts.drop(\"DEFAULT\",axis=1).values\n",
    "y=df_ts[\"DEFAULT\"].values\n",
    "\n",
    "# ## Values scaled\n",
    "# X=scale(df_ts.drop(\"DEFAULT\",axis=1).values)\n",
    "# y=df_ts[\"DEFAULT\"].values"
   ]
  },
  {
   "cell_type": "markdown",
   "metadata": {},
   "source": [
    "### Part 1: Random forest estimators\n",
    "Fit a random forest model, try several different values for N_estimators, report in-sample accuracies. "
   ]
  },
  {
   "cell_type": "code",
   "execution_count": 4,
   "metadata": {},
   "outputs": [],
   "source": [
    "X_train, X_test, y_train, y_test = train_test_split(X, y,test_size=0.1,random_state=39)"
   ]
  },
  {
   "cell_type": "code",
   "execution_count": 5,
   "metadata": {},
   "outputs": [],
   "source": [
    "### Random Forest Parameters\n",
    "prameters_for_rfc={'n_estimators': [100,200,300,400,500],\n",
    "          'criterion':['gini','entropy']}"
   ]
  },
  {
   "cell_type": "code",
   "execution_count": 6,
   "metadata": {},
   "outputs": [],
   "source": [
    "# ### Random Forest Parameters\n",
    "# prameters_for_rfc={'n_estimators': [6000],\n",
    "#           'criterion':['entropy']}"
   ]
  },
  {
   "cell_type": "code",
   "execution_count": 7,
   "metadata": {
    "scrolled": true
   },
   "outputs": [
    {
     "data": {
      "text/plain": [
       "0.7701609142583414"
      ]
     },
     "execution_count": 7,
     "metadata": {},
     "output_type": "execute_result"
    }
   ],
   "source": [
    "### Initiate Random Forest Model With Max Depth=2\n",
    "random_forest_classsifier_model=RandomForestClassifier(random_state=32,max_depth=2)\n",
    "\n",
    "### Initiate Random Forest Model with 10 Fold Cross Validation\n",
    "random_forest_classsifier_model_gridcv=GridSearchCV(estimator=random_forest_classsifier_model,param_grid=prameters_for_rfc,\n",
    "                                                cv=10,\n",
    "                                               scoring='roc_auc')\n",
    "\n",
    "### Fit Random Forest Model with Cross Validation\n",
    "random_forest_classsifier_model_gridcv.fit(X_train,y_train)\n",
    "\n",
    "### Get the Best Score of the cross validate model\n",
    "random_forest_classsifier_model_gridcv.best_score_"
   ]
  },
  {
   "cell_type": "code",
   "execution_count": 8,
   "metadata": {
    "scrolled": true
   },
   "outputs": [
    {
     "name": "stdout",
     "output_type": "stream",
     "text": [
      "Best Random Forest Model is the one with the following Parameters {'criterion': 'gini', 'n_estimators': 100}\n"
     ]
    }
   ],
   "source": [
    "print(\"Best Random Forest Model is the one with the following Parameters\",random_forest_classsifier_model_gridcv.best_params_)"
   ]
  },
  {
   "cell_type": "markdown",
   "metadata": {},
   "source": [
    "### Selecting best model "
   ]
  },
  {
   "cell_type": "code",
   "execution_count": 9,
   "metadata": {},
   "outputs": [
    {
     "data": {
      "text/plain": [
       "RandomForestClassifier(bootstrap=True, class_weight=None, criterion='gini',\n",
       "                       max_depth=2, max_features='auto', max_leaf_nodes=None,\n",
       "                       min_impurity_decrease=0.0, min_impurity_split=None,\n",
       "                       min_samples_leaf=1, min_samples_split=2,\n",
       "                       min_weight_fraction_leaf=0.0, n_estimators=100,\n",
       "                       n_jobs=None, oob_score=False, random_state=32, verbose=0,\n",
       "                       warm_start=False)"
      ]
     },
     "execution_count": 9,
     "metadata": {},
     "output_type": "execute_result"
    }
   ],
   "source": [
    "random_forest_classsifier_model_with_best_param=random_forest_classsifier_model_gridcv.best_estimator_\n",
    "random_forest_classsifier_model_gridcv.best_estimator_"
   ]
  },
  {
   "cell_type": "markdown",
   "metadata": {},
   "source": [
    "#### In Sample Accuracy (Train)"
   ]
  },
  {
   "cell_type": "code",
   "execution_count": 10,
   "metadata": {},
   "outputs": [
    {
     "name": "stdout",
     "output_type": "stream",
     "text": [
      "ROC Sccore of the best model on Training Set 0.5737034538150259\n"
     ]
    }
   ],
   "source": [
    "### Fit to the best Model\n",
    "random_forest_classsifier_model_with_best_param.fit(X_train,y_train)\n",
    "### Training set prediction \n",
    "y_pred_train=random_forest_classsifier_model_with_best_param.predict(X_train)\n",
    "### Training set ROC Score \n",
    "print(\"ROC Sccore of the best model on Training Set\",roc_auc_score(y_train,y_pred_train))"
   ]
  },
  {
   "cell_type": "markdown",
   "metadata": {},
   "source": [
    "#### Out Sample Accuracy (Test)"
   ]
  },
  {
   "cell_type": "code",
   "execution_count": 11,
   "metadata": {},
   "outputs": [
    {
     "name": "stdout",
     "output_type": "stream",
     "text": [
      "ROC AUC Sccore of the best model on Test Set 0.5730674218700879\n"
     ]
    }
   ],
   "source": [
    "y_pred_test=random_forest_classsifier_model_with_best_param.predict(X_test)\n",
    "print(\"ROC AUC Sccore of the best model on Test Set\",roc_auc_score(y_test,y_pred_test))"
   ]
  },
  {
   "cell_type": "code",
   "execution_count": 12,
   "metadata": {},
   "outputs": [
    {
     "data": {
      "text/plain": [
       "array([2.17658478e-02, 0.00000000e+00, 8.27397065e-04, 1.21697370e-04,\n",
       "       4.87271629e-04, 2.98648620e-01, 2.20600102e-01, 1.12023642e-01,\n",
       "       9.51834027e-02, 7.44340767e-02, 7.71084016e-02, 1.90629388e-03,\n",
       "       7.36088849e-05, 1.85650646e-03, 8.72047354e-04, 4.28428133e-04,\n",
       "       8.99267984e-04, 3.14764629e-02, 2.49779561e-02, 9.83123807e-03,\n",
       "       1.08490776e-02, 1.00608539e-02, 5.56780018e-03])"
      ]
     },
     "execution_count": 12,
     "metadata": {},
     "output_type": "execute_result"
    }
   ],
   "source": [
    "random_forest_classsifier_model_with_best_param.feature_importances_"
   ]
  },
  {
   "cell_type": "markdown",
   "metadata": {},
   "source": [
    "### Part 2: Random forest feature importance"
   ]
  },
  {
   "cell_type": "code",
   "execution_count": 13,
   "metadata": {
    "scrolled": true
   },
   "outputs": [
    {
     "data": {
      "image/png": "[encoded data removed]",
      "text/plain": [
       "<Figure size 432x288 with 1 Axes>"
      ]
     },
     "metadata": {
      "needs_background": "light"
     },
     "output_type": "display_data"
    }
   ],
   "source": [
    "importances_rf=pd.Series(random_forest_classsifier_model_with_best_param.feature_importances_,\n",
    "          index = df_ts.drop(\"DEFAULT\",axis=1).columns)\n",
    "# Sort importances_rf\n",
    "sorted_importances_rf = importances_rf.sort_values()\n",
    "# Make a horizontal bar plot\n",
    "sorted_importances_rf.plot(kind='barh', color='lightgreen')\n",
    "plt.show()"
   ]
  },
  {
   "cell_type": "code",
   "execution_count": 14,
   "metadata": {},
   "outputs": [
    {
     "name": "stdout",
     "output_type": "stream",
     "text": [
      "accuracy score on Test 0.8033333333333333\n",
      "accuracy score on Train 0.8022222222222222\n"
     ]
    }
   ],
   "source": [
    "print(\"accuracy score on Test\",accuracy_score(y_test,y_pred_test))\n",
    "print(\"accuracy score on Train\",accuracy_score(y_train,y_pred_train))"
   ]
  },
  {
   "cell_type": "code",
   "execution_count": 89,
   "metadata": {
    "scrolled": true
   },
   "outputs": [
    {
     "data": {
      "text/plain": [
       "0.9733967781066895"
      ]
     },
     "execution_count": 89,
     "metadata": {},
     "output_type": "execute_result"
    }
   ],
   "source": [
    "random_forest_classsifier_model_gridcv."
   ]
  },
  {
   "cell_type": "code",
   "execution_count": 59,
   "metadata": {
    "scrolled": true
   },
   "outputs": [],
   "source": [
    "df_result_summary=pd.DataFrame(random_forest_classsifier_model_gridcv.cv_results_['params'])\n",
    "df_result_summary[\"Mean Test Score %\"]=(list(random_forest_classsifier_model_gridcv.cv_results_['mean_test_score']))\n",
    "df_result_summary[\"Mean Test Score %\"]=df_result_summary[\"Mean Test Score %\"]*100"
   ]
  },
  {
   "cell_type": "code",
   "execution_count": 82,
   "metadata": {},
   "outputs": [
    {
     "data": {
      "text/plain": [
       "[{'criterion': 'gini', 'n_estimators': 100},\n",
       " {'criterion': 'gini', 'n_estimators': 200},\n",
       " {'criterion': 'gini', 'n_estimators': 300},\n",
       " {'criterion': 'gini', 'n_estimators': 400},\n",
       " {'criterion': 'gini', 'n_estimators': 500},\n",
       " {'criterion': 'entropy', 'n_estimators': 100},\n",
       " {'criterion': 'entropy', 'n_estimators': 200},\n",
       " {'criterion': 'entropy', 'n_estimators': 300},\n",
       " {'criterion': 'entropy', 'n_estimators': 400},\n",
       " {'criterion': 'entropy', 'n_estimators': 500}]"
      ]
     },
     "execution_count": 82,
     "metadata": {},
     "output_type": "execute_result"
    }
   ],
   "source": [
    "random_forest_classsifier_model_gridcv.cv_results_['params']"
   ]
  },
  {
   "cell_type": "code",
   "execution_count": 80,
   "metadata": {
    "scrolled": true
   },
   "outputs": [
    {
     "data": {
      "text/html": [
       "<div>\n",
       "<style scoped>\n",
       "    .dataframe tbody tr th:only-of-type {\n",
       "        vertical-align: middle;\n",
       "    }\n",
       "\n",
       "    .dataframe tbody tr th {\n",
       "        vertical-align: top;\n",
       "    }\n",
       "\n",
       "    .dataframe thead th {\n",
       "        text-align: right;\n",
       "    }\n",
       "</style>\n",
       "<table border=\"1\" class=\"dataframe\">\n",
       "  <thead>\n",
       "    <tr style=\"text-align: right;\">\n",
       "      <th></th>\n",
       "      <th>criterion</th>\n",
       "      <th>n_estimators</th>\n",
       "      <th>Mean Test Score %</th>\n",
       "    </tr>\n",
       "  </thead>\n",
       "  <tbody>\n",
       "    <tr>\n",
       "      <th>0</th>\n",
       "      <td>gini</td>\n",
       "      <td>100</td>\n",
       "      <td>77.016091</td>\n",
       "    </tr>\n",
       "    <tr>\n",
       "      <th>1</th>\n",
       "      <td>gini</td>\n",
       "      <td>200</td>\n",
       "      <td>76.946355</td>\n",
       "    </tr>\n",
       "    <tr>\n",
       "      <th>2</th>\n",
       "      <td>gini</td>\n",
       "      <td>300</td>\n",
       "      <td>76.914094</td>\n",
       "    </tr>\n",
       "    <tr>\n",
       "      <th>3</th>\n",
       "      <td>gini</td>\n",
       "      <td>400</td>\n",
       "      <td>76.938530</td>\n",
       "    </tr>\n",
       "    <tr>\n",
       "      <th>4</th>\n",
       "      <td>gini</td>\n",
       "      <td>500</td>\n",
       "      <td>76.958080</td>\n",
       "    </tr>\n",
       "    <tr>\n",
       "      <th>5</th>\n",
       "      <td>entropy</td>\n",
       "      <td>100</td>\n",
       "      <td>76.990509</td>\n",
       "    </tr>\n",
       "    <tr>\n",
       "      <th>6</th>\n",
       "      <td>entropy</td>\n",
       "      <td>200</td>\n",
       "      <td>76.924416</td>\n",
       "    </tr>\n",
       "    <tr>\n",
       "      <th>7</th>\n",
       "      <td>entropy</td>\n",
       "      <td>300</td>\n",
       "      <td>76.893430</td>\n",
       "    </tr>\n",
       "    <tr>\n",
       "      <th>8</th>\n",
       "      <td>entropy</td>\n",
       "      <td>400</td>\n",
       "      <td>76.914389</td>\n",
       "    </tr>\n",
       "    <tr>\n",
       "      <th>9</th>\n",
       "      <td>entropy</td>\n",
       "      <td>500</td>\n",
       "      <td>76.917823</td>\n",
       "    </tr>\n",
       "  </tbody>\n",
       "</table>\n",
       "</div>"
      ],
      "text/plain": [
       "  criterion  n_estimators  Mean Test Score %\n",
       "0      gini           100          77.016091\n",
       "1      gini           200          76.946355\n",
       "2      gini           300          76.914094\n",
       "3      gini           400          76.938530\n",
       "4      gini           500          76.958080\n",
       "5   entropy           100          76.990509\n",
       "6   entropy           200          76.924416\n",
       "7   entropy           300          76.893430\n",
       "8   entropy           400          76.914389\n",
       "9   entropy           500          76.917823"
      ]
     },
     "execution_count": 80,
     "metadata": {},
     "output_type": "execute_result"
    }
   ],
   "source": [
    "df_result_summary"
   ]
  },
  {
   "cell_type": "code",
   "execution_count": 79,
   "metadata": {},
   "outputs": [
    {
     "data": {
      "text/plain": [
       "<matplotlib.axes._subplots.AxesSubplot at 0x1f1159830f0>"
      ]
     },
     "execution_count": 79,
     "metadata": {},
     "output_type": "execute_result"
    },
    {
     "data": {
      "image/png": "[encoded data removed]",
      "text/plain": [
       "<Figure size 432x288 with 1 Axes>"
      ]
     },
     "metadata": {
      "needs_background": "light"
     },
     "output_type": "display_data"
    }
   ],
   "source": [
    "df_result_summary.query(\"criterion=='gini'\").plot(x=\"n_estimators\",y=\"Mean Test Score %\",\n",
    "                                                  title=\"Mean Test Score - Gini-N Estimator\")"
   ]
  },
  {
   "cell_type": "code",
   "execution_count": 81,
   "metadata": {},
   "outputs": [
    {
     "data": {
      "text/plain": [
       "<matplotlib.axes._subplots.AxesSubplot at 0x1f1169ee7f0>"
      ]
     },
     "execution_count": 81,
     "metadata": {},
     "output_type": "execute_result"
    },
    {
     "data": {
      "image/png": "[encoded data removed]",
      "text/plain": [
       "<Figure size 432x288 with 1 Axes>"
      ]
     },
     "metadata": {
      "needs_background": "light"
     },
     "output_type": "display_data"
    }
   ],
   "source": [
    "df_result_summary.query(\"criterion=='entropy'\").plot(x=\"n_estimators\",y=\"Mean Test Score %\",\n",
    "                                                  title=\"Mean Test Score - entropy-N Estimator\")"
   ]
  },
  {
   "cell_type": "markdown",
   "metadata": {},
   "source": [
    "### Final conclusion"
   ]
  },
  {
   "cell_type": "markdown",
   "metadata": {},
   "source": [
    "Thea mean scores of all the models are very close to heach other. \n",
    "1. As the number of tree grows, the compution gets loner and longer. \n",
    "2. For this experiment 100 Tree is enough.\n",
    "3. pay_0 is the most importnat feature."
   ]
  },
  {
   "attachments": {
    "image.png": {
     "image/png": "[encoded data removed]"
    }
   },
   "cell_type": "markdown",
   "metadata": {},
   "source": [
    "4.according to  https://towardsdatascience.com/the-mathematics-of-decision-trees-random-forest-and-feature-importance-in-scikit-learn-and-spark-f2861df67e3\n",
    "![image.png](attachment:image.png)"
   ]
  },
  {
   "cell_type": "code",
   "execution_count": 90,
   "metadata": {},
   "outputs": [
    {
     "name": "stdout",
     "output_type": "stream",
     "text": [
      "My name is Farbod Baharkoush\n",
      "My NetID is: fbahar2\n",
      "I hereby certify that I have read the University policy on Academic Integrity and that I am not in violation.\n"
     ]
    }
   ],
   "source": [
    "print(\"My name is Farbod Baharkoush\")\n",
    "print(\"My NetID is: fbahar2\")\n",
    "print(\"I hereby certify that I have read the University policy on Academic Integrity and that I am not in violation.\")"
   ]
  },
  {
   "cell_type": "code",
   "execution_count": null,
   "metadata": {},
   "outputs": [],
   "source": []
  },
  {
   "cell_type": "code",
   "execution_count": null,
   "metadata": {},
   "outputs": [],
   "source": []
  }
 ],
 "metadata": {
  "kernelspec": {
   "display_name": "Python 3",
   "language": "python",
   "name": "python3"
  },
  "language_info": {
   "codemirror_mode": {
    "name": "ipython",
    "version": 3
   },
   "file_extension": ".py",
   "mimetype": "text/x-python",
   "name": "python",
   "nbconvert_exporter": "python",
   "pygments_lexer": "ipython3",
   "version": "3.7.3"
  }
 },
 "nbformat": 4,
 "nbformat_minor": 2
}
